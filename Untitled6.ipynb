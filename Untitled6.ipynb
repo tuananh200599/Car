{
  "nbformat": 4,
  "nbformat_minor": 0,
  "metadata": {
    "colab": {
      "name": "Untitled6.ipynb",
      "provenance": [],
      "authorship_tag": "ABX9TyO05tlhIEuqMJbys/x77ehb",
      "include_colab_link": true
    },
    "kernelspec": {
      "name": "python3",
      "display_name": "Python 3"
    }
  },
  "cells": [
    {
      "cell_type": "markdown",
      "metadata": {
        "id": "view-in-github",
        "colab_type": "text"
      },
      "source": [
        "<a href=\"https://colab.research.google.com/github/tuananh200599/Car/blob/main/Untitled6.ipynb\" target=\"_parent\"><img src=\"https://colab.research.google.com/assets/colab-badge.svg\" alt=\"Open In Colab\"/></a>"
      ]
    },
    {
      "cell_type": "code",
      "metadata": {
        "id": "goR_-R6kplfi"
      },
      "source": [
        "class Car:\r\n",
        "  color = 'white'\r\n",
        "\r\n",
        "  def __init__(self, name, engine):\r\n",
        "    self.name = name\r\n",
        "    self.engine = engine\r\n",
        "  \r\n",
        "  def setColor(self, color):\r\n",
        "    self.color = color\r\n",
        "  \r\n",
        "  def setEngine(self, engine):\r\n",
        "    self.engine = engine\r\n",
        "  \r\n",
        "  def setName(self, name):\r\n",
        "    self.name = name\r\n",
        "  \r\n",
        "  def getEngine(self):\r\n",
        "    return self.engine\r\n",
        "  \r\n",
        "  def toString(self):\r\n",
        "    s = 'Xe {} có màu {} và động cơ {} mã lực'.format(self.name, self.color, self.engine)\r\n",
        "    return(s)"
      ],
      "execution_count": 1,
      "outputs": []
    },
    {
      "cell_type": "markdown",
      "metadata": {
        "id": "HjYBCRwIpxez"
      },
      "source": [
        "Sử dụng car\r\n"
      ]
    },
    {
      "cell_type": "code",
      "metadata": {
        "colab": {
          "base_uri": "https://localhost:8080/"
        },
        "id": "d48zQVy6p09N",
        "outputId": "6b5045e0-cead-4bac-998a-7456320d07e0"
      },
      "source": [
        "mazda = Car('Mazda  2', 2.6)\r\n",
        "print(mazda.toString())"
      ],
      "execution_count": 2,
      "outputs": [
        {
          "output_type": "stream",
          "text": [
            "Xe Mazda  2 có màu white và động cơ 2.6 mã lực\n"
          ],
          "name": "stdout"
        }
      ]
    },
    {
      "cell_type": "markdown",
      "metadata": {
        "id": "UkmT-WklqUDg"
      },
      "source": [
        "Kế thừa\r\n"
      ]
    },
    {
      "cell_type": "code",
      "metadata": {
        "colab": {
          "base_uri": "https://localhost:8080/"
        },
        "id": "clZlI6CLqTt4",
        "outputId": "8c6784f0-57ca-44c9-ad0b-cafa4dd9ef15"
      },
      "source": [
        "class Truck(Car):\r\n",
        "  def __init__(self,name,engine,weight):\r\n",
        "    super().__init__(name,engine)\r\n",
        "    self.weight = weight \r\n",
        "\r\n",
        "  def __str__(self):\r\n",
        "    return 'Xe {} có màu {} động cơ {} mã lực và tải trọng {}'.format(self.name, self.color, self.engine,self.weight)\r\n",
        "  \r\n",
        "\r\n",
        "xetai = Truck(\"xe tải\",\"M2B\",17)\r\n",
        "\r\n",
        "print(xetai)\r\n"
      ],
      "execution_count": 4,
      "outputs": [
        {
          "output_type": "stream",
          "text": [
            "Xe xe tải có màu white động cơ M2B mã lực và tải trọng 17\n"
          ],
          "name": "stdout"
        }
      ]
    }
  ]
}