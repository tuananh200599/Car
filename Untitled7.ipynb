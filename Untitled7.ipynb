{
  "nbformat": 4,
  "nbformat_minor": 0,
  "metadata": {
    "colab": {
      "name": "Untitled7.ipynb",
      "provenance": [],
      "authorship_tag": "ABX9TyNfS7U7Mh3Y8gOoE+Sjg/wA",
      "include_colab_link": true
    },
    "kernelspec": {
      "name": "python3",
      "display_name": "Python 3"
    }
  },
  "cells": [
    {
      "cell_type": "markdown",
      "metadata": {
        "id": "view-in-github",
        "colab_type": "text"
      },
      "source": [
        "<a href=\"https://colab.research.google.com/github/tuananh200599/Car/blob/main/Untitled7.ipynb\" target=\"_parent\"><img src=\"https://colab.research.google.com/assets/colab-badge.svg\" alt=\"Open In Colab\"/></a>"
      ]
    },
    {
      "cell_type": "code",
      "metadata": {
        "id": "cYOifSCDrWXW"
      },
      "source": [
        "class Car:\r\n",
        "  color = 'white'\r\n",
        "\r\n",
        "  def __init__(self, name, engine):\r\n",
        "    self.name = name\r\n",
        "    self.engine = engine\r\n",
        "  \r\n",
        "  def setColor(self, color):\r\n",
        "    self.color = color\r\n",
        "  \r\n",
        "  def setEngine(self, engine):\r\n",
        "    self.engine = engine\r\n",
        "  \r\n",
        "  def setName(self, name):\r\n",
        "    self.name = name\r\n",
        "  \r\n",
        "  def getEngine(self):\r\n",
        "    return self.engine\r\n",
        "  \r\n",
        "  def toString(self):\r\n",
        "    s = 'Xe {} có màu {} và động cơ {} mã lực'.format(self.name, self.color, self.engine)\r\n",
        "    return(s)\r\n",
        "  def key_start(self):\r\n",
        "    print ('{} khởi động bằng khóa điện tử'.format(self.name))"
      ],
      "execution_count": 7,
      "outputs": []
    },
    {
      "cell_type": "code",
      "metadata": {
        "colab": {
          "base_uri": "https://localhost:8080/"
        },
        "id": "KtXQRpOprg9f",
        "outputId": "779c3ae4-d08b-4be0-e370-bf1da632d9da"
      },
      "source": [
        "mazda = Car('Mazda  2', 2.6)\r\n",
        "print(mazda.toString())\r\n",
        "mazda.key_start()"
      ],
      "execution_count": 11,
      "outputs": [
        {
          "output_type": "stream",
          "text": [
            "Xe Mazda  2 có màu white và động cơ 2.6 mã lực\n",
            "Mazda  2 khởi động bằng khóa điện tử\n"
          ],
          "name": "stdout"
        }
      ]
    },
    {
      "cell_type": "markdown",
      "metadata": {
        "id": "4puaWgA1tsB5"
      },
      "source": [
        "Ghi Đè - Kế Thừa\r\n"
      ]
    },
    {
      "cell_type": "code",
      "metadata": {
        "colab": {
          "base_uri": "https://localhost:8080/"
        },
        "id": "wdFa84OdsUEv",
        "outputId": "7f1ca0ae-7343-457a-bb43-cae6b0bb9638"
      },
      "source": [
        "class Truck(Car):\r\n",
        "  def __init__(self,name,engine,weight):\r\n",
        "    super().__init__(name,engine)\r\n",
        "    self.weight = weight \r\n",
        "\r\n",
        "  def __str__(self):\r\n",
        "    return 'Xe {} có màu {} động cơ {} mã lực và tải trọng {}'.format(self.name, self.color, self.engine,self.weight)\r\n",
        "  def key_start(self):\r\n",
        "    print ('{} khởi động bằng khóa thông minh'.format(self.name))\r\n",
        "\r\n",
        "xetai = Truck(\"xe tải\",\"M2B\",17)\r\n",
        "\r\n",
        "print(xetai)\r\n",
        "xetai.key_start()"
      ],
      "execution_count": 12,
      "outputs": [
        {
          "output_type": "stream",
          "text": [
            "Xe xe tải có màu white động cơ M2B mã lực và tải trọng 17\n",
            "xe tải khởi động bằng khóa thông minh\n"
          ],
          "name": "stdout"
        }
      ]
    }
  ]
}