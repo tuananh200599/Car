{
  "nbformat": 4,
  "nbformat_minor": 0,
  "metadata": {
    "colab": {
      "name": "Copy of bai-tap-CAR.ipynb",
      "provenance": [],
      "collapsed_sections": [],
      "include_colab_link": true
    },
    "kernelspec": {
      "name": "python3",
      "display_name": "Python 3"
    }
  },
  "cells": [
    {
      "cell_type": "markdown",
      "metadata": {
        "id": "view-in-github",
        "colab_type": "text"
      },
      "source": [
        "<a href=\"https://colab.research.google.com/github/tuananh200599/Car/blob/main/Copy_of_bai_tap_CAR.ipynb\" target=\"_parent\"><img src=\"https://colab.research.google.com/assets/colab-badge.svg\" alt=\"Open In Colab\"/></a>"
      ]
    },
    {
      "cell_type": "markdown",
      "metadata": {
        "id": "bJGNCF66qS_5"
      },
      "source": [
        "Tạo lớp CAR có các thuộc tính name, color và engine"
      ]
    },
    {
      "cell_type": "code",
      "metadata": {
        "id": "GurytHijqLSC"
      },
      "source": [
        "class Car:\r\n",
        "  color = 'white'\r\n",
        "\r\n",
        "  def __init__(self, name, engine):\r\n",
        "    self.name = name\r\n",
        "    self.engine = engine\r\n",
        "  \r\n",
        "  def setColor(self, color):\r\n",
        "    self.color = color\r\n",
        "  \r\n",
        "  def setEngine(self, engine):\r\n",
        "    self.engine = engine\r\n",
        "  \r\n",
        "  def setName(self, name):\r\n",
        "    self.name = name\r\n",
        "  \r\n",
        "  def getEngine(self):\r\n",
        "    return self.engine\r\n",
        "  \r\n",
        "  def toString(self):\r\n",
        "    s = 'Xe {} có màu {} và động cơ {} mã lực'.format(self.name, self.color, self.engine)\r\n",
        "    return(s)"
      ],
      "execution_count": 1,
      "outputs": []
    },
    {
      "cell_type": "markdown",
      "metadata": {
        "id": "U4S9a6w-rzw9"
      },
      "source": [
        "Sử dụng lớp Car"
      ]
    },
    {
      "cell_type": "code",
      "metadata": {
        "colab": {
          "base_uri": "https://localhost:8080/"
        },
        "id": "wUt9mn8nr1Xh",
        "outputId": "c0dc48c9-a57d-4da9-c152-42f19ed93e1c"
      },
      "source": [
        "fadil = Car('Fortune Fadil', 2.6)\r\n",
        "print(fadil.toString())"
      ],
      "execution_count": 2,
      "outputs": [
        {
          "output_type": "stream",
          "text": [
            "Xe Fortune Fadil có màu white và động cơ 2.6 mã lực\n"
          ],
          "name": "stdout"
        }
      ]
    },
    {
      "cell_type": "code",
      "metadata": {
        "colab": {
          "base_uri": "https://localhost:8080/"
        },
        "id": "y6sDsZMjsDQJ",
        "outputId": "8c523804-e9d1-4422-e501-a6dbdef18b47"
      },
      "source": [
        "fadil.setColor(\"Black\")\r\n",
        "print(fadil.toString())"
      ],
      "execution_count": 3,
      "outputs": [
        {
          "output_type": "stream",
          "text": [
            "Xe Fortune Fadil có màu Black và động cơ 2.6 mã lực\n"
          ],
          "name": "stdout"
        }
      ]
    }
  ]
}